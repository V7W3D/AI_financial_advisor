{
 "cells": [
  {
   "cell_type": "code",
   "execution_count": 12,
   "id": "fa53b7e2-74c4-48ba-952f-c2c7e1bf8325",
   "metadata": {},
   "outputs": [
    {
     "name": "stderr",
     "output_type": "stream",
     "text": [
      "USER_AGENT environment variable not set, consider setting it to identify your requests.\n"
     ]
    }
   ],
   "source": [
    "import glob\n",
    "from langchain.document_loaders import (UnstructuredWordDocumentLoader,\n",
    "                                         UnstructuredPowerPointLoader,\n",
    "                                         UnstructuredPDFLoader)\n",
    "from langchain.text_splitter import RecursiveCharacterTextSplitter\n",
    "from langchain.text_splitter import RecursiveCharacterTextSplitter\n",
    "from langchain_community.document_loaders import WebBaseLoader\n",
    "from langchain_community.vectorstores import Chroma\n",
    "from langchain_openai import OpenAIEmbeddings\n",
    "from langchain_community.document_loaders import PyPDFLoader\n"
   ]
  },
  {
   "cell_type": "code",
   "execution_count": 11,
   "id": "70637842-0efa-44a0-b8fa-7cac9122e987",
   "metadata": {},
   "outputs": [],
   "source": [
    "!mkdir ./Downloads/projet_m2isd"
   ]
  },
  {
   "cell_type": "code",
   "execution_count": 13,
   "id": "837ec554-c2b7-4cb1-b5bf-f61f17c5b03d",
   "metadata": {},
   "outputs": [
    {
     "name": "stdout",
     "output_type": "stream",
     "text": [
      "./c386ee7f-f414-4e9e-84b3-1c9236008498.pdf\n"
     ]
    }
   ],
   "source": [
    "for file in glob.glob('./*.pdf'):\n",
    "    print(file)"
   ]
  },
  {
   "cell_type": "code",
   "execution_count": 14,
   "id": "f6f5874e-16ab-40b9-ab2c-1e3b969aac9c",
   "metadata": {},
   "outputs": [],
   "source": [
    "docs = [ PyPDFLoader(file).load() for file in glob.glob('./*.pdf')]\n",
    "\n",
    "docs_list = [item for sublist in docs for item in sublist]\n",
    "\n",
    "text_splitter = RecursiveCharacterTextSplitter.from_tiktoken_encoder(\n",
    "    chunk_size=250, chunk_overlap=100\n",
    ")\n",
    "doc_splits = text_splitter.split_documents(docs_list)"
   ]
  },
  {
   "cell_type": "code",
   "execution_count": 16,
   "id": "e2a71ea2-78cc-4e0f-9a1c-7f758ea71ccc",
   "metadata": {},
   "outputs": [],
   "source": [
    "doc_splits = doc_splits[:10]"
   ]
  },
  {
   "cell_type": "code",
   "execution_count": 17,
   "id": "140b9bce-f539-4c50-8c9a-059ac2a8a567",
   "metadata": {},
   "outputs": [
    {
     "data": {
      "text/plain": [
       "[Document(metadata={'source': './c386ee7f-f414-4e9e-84b3-1c9236008498.pdf', 'page': 0}, page_content='Summary\\nBowyer Research ur ges shareholders to vote AGAINST  Proposal 7, on the 2024 proxy ballot of\\nApple, Inc. (“Apple” or the “Company”) The “Resolved” clause of Proposal No. 7 states:\\nRESOL VED: Shareholders request that Apple Inc. prepare a transparency report on the\\ncompany’ s use of Artificial Intelligence (“AI”) in its business operations and disclose any\\nethical guidelines that the company has adopted regarding the company’ s use of AI\\ntechnology . This report shall be made publicly available to the company’ s shareholders\\non the company’ s website, be prepared at a reasonable cost, and omit any information\\nthat is proprietary , privileged, or violative of contractual obligations.\\n \\nThe supporting statement to this Proposal1, submitted by Segal Marco Advisors (the\\n“Proponent”), contends that:\\nIncreased use of artificial intelligence/machine learning models (further referred to\\nholistically as AI) present serious “social policy issues.”'),\n",
       " Document(metadata={'source': './c386ee7f-f414-4e9e-84b3-1c9236008498.pdf', 'page': 0}, page_content='on the company’ s website, be prepared at a reasonable cost, and omit any information\\nthat is proprietary , privileged, or violative of contractual obligations.\\n \\nThe supporting statement to this Proposal1, submitted by Segal Marco Advisors (the\\n“Proponent”), contends that:\\nIncreased use of artificial intelligence/machine learning models (further referred to\\nholistically as AI) present serious “social policy issues.” \\nFailure to adopt a specific set of ethical guidelines regarding AI will lead to costly labor\\ndisruptions. \\nSuch ethical systems require Apple not to use AI to “replace or supplant the creative work\\nof professional writers.” \\n \\nThese assertions, however , are based on false argumentation and analysis that:\\n \\nDemand concrete AI self-regulation in a quickly-evolving phase of the technology’ s\\ndevelopment. \\nUnfairly malign and oppose a primary function of developing AI in the technological\\nworkspace. \\nPresuppose a Luddite, restrictionist framework to Apple’ s AI outlook.'),\n",
       " Document(metadata={'source': './c386ee7f-f414-4e9e-84b3-1c9236008498.pdf', 'page': 0}, page_content='of professional writers.” \\n \\nThese assertions, however , are based on false argumentation and analysis that:\\n \\nDemand concrete AI self-regulation in a quickly-evolving phase of the technology’ s\\ndevelopment. \\nUnfairly malign and oppose a primary function of developing AI in the technological\\nworkspace. \\nPresuppose a Luddite, restrictionist framework to Apple’ s AI outlook. \\n1https://www.sec.gov/Archives/edgar/data/320193/000130817924000010/laapl2024_def14a.pdf1.\\n1.\\n2.\\n1.\\n2.\\n3.'),\n",
       " Document(metadata={'source': './c386ee7f-f414-4e9e-84b3-1c9236008498.pdf', 'page': 1}, page_content='The Pr oposal demands concr ete AI self-r egulation in a quickly-evolving phase of the\\ntechnology’ s development.  \\n \\nAs asserted in Proposal No. 7’ s supporting statement, “the use of AI in human resources\\ndecisions may raise concerns about discrimination or bias against employees. The use of AI to\\nautomate jobs may result in mass layof fs and the closing of entire facilities.” In the Proponent’ s\\nview , the potential of AI to disrupt existing workplace infrastructure is concerning enough to\\njustify the type of preemptive corporate self-regulation capable of resolving AI conflicts before\\nthey start. Yet, preemptive corporate self-regulation of AI technology , systems that rely on an\\never-evolving knowledge base, can easily cross the line from self-regulation to self-obstruction\\nof the legitimate goals of AI technology . The Proponent’ s view belies an assumption that AI\\nregulation of the current space will achieve requisite goals as regards a more developed, later\\nstate of AI. This assumption suf fers from a profound lack of evidence—the Proponent is asking'),\n",
       " Document(metadata={'source': './c386ee7f-f414-4e9e-84b3-1c9236008498.pdf', 'page': 1}, page_content='ever-evolving knowledge base, can easily cross the line from self-regulation to self-obstruction\\nof the legitimate goals of AI technology . The Proponent’ s view belies an assumption that AI\\nregulation of the current space will achieve requisite goals as regards a more developed, later\\nstate of AI. This assumption suf fers from a profound lack of evidence—the Proponent is asking\\nfor too much self-regulation too soon. Apple itself has hinted at new AI-related products in the\\nnear future.2 Apple and its developers are not prescient. Regulating such products in the current\\nmoment, would jeopardize the Company’ s ability to successfully rollout AI products by\\nrendering Apple developers servant to the parameters of their own regulatory commitments,\\nthereby hindering innovation and decreasing the ability of Company developers to provide high-\\nquality products for its users.\\n \\nThe Pr oposal unfairly maligns and opposes a primary function of developing AI in\\nthe technological workspace.  \\n \\nIn its supporting statement, the Proposal states that AI models ought not to be used to “replace or'),\n",
       " Document(metadata={'source': './c386ee7f-f414-4e9e-84b3-1c9236008498.pdf', 'page': 1}, page_content='rendering Apple developers servant to the parameters of their own regulatory commitments,\\nthereby hindering innovation and decreasing the ability of Company developers to provide high-\\nquality products for its users.\\n \\nThe Pr oposal unfairly maligns and opposes a primary function of developing AI in\\nthe technological workspace.  \\n \\nIn its supporting statement, the Proposal states that AI models ought not to be used to “replace or\\nsupplant the creative work of professional writers.” The Proponent’ s statement belies a belief that\\nAI’s ability to replace the product of human ef fort is a de facto  negative. This belief is\\nfundamentally ignorant of the purpose of machine learning models: at its most basic level, AI is\\ndesigned  to alleviate human workload—by means of example, ChatGPT  definitionally replaces\\nthe creative work of a writer—rendering the Proposal a philosophical ar gument against AI\\nentirely , as opposed to a mere desire for further self-regulation.\\n2'),\n",
       " Document(metadata={'source': './c386ee7f-f414-4e9e-84b3-1c9236008498.pdf', 'page': 1}, page_content='fundamentally ignorant of the purpose of machine learning models: at its most basic level, AI is\\ndesigned  to alleviate human workload—by means of example, ChatGPT  definitionally replaces\\nthe creative work of a writer—rendering the Proposal a philosophical ar gument against AI\\nentirely , as opposed to a mere desire for further self-regulation.\\n2\\n https://www.cnbc.com/2024/02/01/tim-cook-teases-apple-ai-announcement-later-this-year.html1.\\n2.'),\n",
       " Document(metadata={'source': './c386ee7f-f414-4e9e-84b3-1c9236008498.pdf', 'page': 2}, page_content='Such ar guments place the Proposal at odds with not only Apple’ s ostensible trajectory but its\\nexisting iOS base of technology , including facial and animal recognition software.3 To comply\\nwith the Proponent’ s demand, Apple would have to not only cease further AI development but\\nroll back existing technological features, a move that would generate widespread reputational\\nrisk for the Company and diminish Apple’ s status as an industry leader .\\n \\nThe Pr oposal pr esupposes a Luddite, r estrictionist framework to Apple’ s AI\\noutlook.  \\n \\nIn its supporting statement, Proposal No. 7 asserts that “adopting an ethical framework for the\\nuse of AI technology will strengthen [Apple’ s] position as a responsible and sustainable leader in\\nits industry .” Yet, as demonstrated in point 2 above, the Proponent is ideologically opposed to\\neven comparatively rudimentary uses of AI, i.e. replacing the work of writers and (to a degree)\\nartists, an area of innovation in which all of Apple’ s major competitors are making notable\\nstrides.'),\n",
       " Document(metadata={'source': './c386ee7f-f414-4e9e-84b3-1c9236008498.pdf', 'page': 2}, page_content='use of AI technology will strengthen [Apple’ s] position as a responsible and sustainable leader in\\nits industry .” Yet, as demonstrated in point 2 above, the Proponent is ideologically opposed to\\neven comparatively rudimentary uses of AI, i.e. replacing the work of writers and (to a degree)\\nartists, an area of innovation in which all of Apple’ s major competitors are making notable\\nstrides.\\n \\nFor Apple to be a “responsible and sustainable” industry leader , it must first remain a leader . The\\ntype of excessive, premature demands for widely-encompassing self-regulation for which the\\nProponent advocates would only serve to jeopardize that leader status. Such demands, far from\\nelevating Apple’ s ability to create value for its shareholders, instead represent the kind of activist\\ndemands capable of hijacking a company’ s operational philosophy .\\n \\nConclusion\\nAs demonstrated in this report, Proposal No. 7 fails to ef fectively advocate for AI self-regulation\\nby:\\n \\nDemanding concrete AI self-regulation in a quickly-evolving phase of the technology’ s'),\n",
       " Document(metadata={'source': './c386ee7f-f414-4e9e-84b3-1c9236008498.pdf', 'page': 2}, page_content='elevating Apple’ s ability to create value for its shareholders, instead represent the kind of activist\\ndemands capable of hijacking a company’ s operational philosophy .\\n \\nConclusion\\nAs demonstrated in this report, Proposal No. 7 fails to ef fectively advocate for AI self-regulation\\nby:\\n \\nDemanding concrete AI self-regulation in a quickly-evolving phase of the technology’ s\\ndevelopment. \\n3 https://www.cnbc.com/2019/06/26/apple-adds-new-image-recognition-features-for-pets-to-ios.html3.\\n1.')]"
      ]
     },
     "execution_count": 17,
     "metadata": {},
     "output_type": "execute_result"
    }
   ],
   "source": [
    "doc_splits"
   ]
  },
  {
   "cell_type": "code",
   "execution_count": 11,
   "id": "957c4963-ff46-4064-9673-a988ce672320",
   "metadata": {},
   "outputs": [],
   "source": [
    "import getpass\n",
    "import os\n",
    "\n",
    "\n",
    "def _set_env(key: str):\n",
    "    if key not in os.environ:\n",
    "        os.environ[key] = getpass.getpass(f\"{key}:\")\n",
    "\n",
    "\n",
    "_set_env(\"OPENAI_API_KEY\")"
   ]
  },
  {
   "cell_type": "code",
   "execution_count": 15,
   "id": "f18aae3f-66f6-41be-9a24-6d56a0b6491d",
   "metadata": {},
   "outputs": [],
   "source": [
    "# Add to vectorDB\n",
    "vectorstore = Chroma.from_documents(\n",
    "    documents=doc_splits,\n",
    "    collection_name=\"rag-chroma-sec\",\n",
    "    embedding=OpenAIEmbeddings(),\n",
    ")\n",
    "retriever = vectorstore.as_retriever()"
   ]
  },
  {
   "cell_type": "code",
   "execution_count": 16,
   "id": "9238ea6b-3bde-4ee4-b776-a76efc27ad39",
   "metadata": {},
   "outputs": [
    {
     "name": "stderr",
     "output_type": "stream",
     "text": [
      "/tmp/ipykernel_29956/1430157693.py:36: LangChainDeprecationWarning: The method `BaseRetriever.get_relevant_documents` was deprecated in langchain-core 0.1.46 and will be removed in 1.0. Use :meth:`~invoke` instead.\n",
      "  docs = retriever.get_relevant_documents(question)\n"
     ]
    },
    {
     "name": "stdout",
     "output_type": "stream",
     "text": [
      "binary_score='yes'\n"
     ]
    }
   ],
   "source": [
    "### Retrieval Grader\n",
    "\n",
    "\n",
    "from langchain_core.prompts import ChatPromptTemplate\n",
    "from langchain_core.pydantic_v1 import BaseModel, Field\n",
    "from langchain_openai import ChatOpenAI\n",
    "\n",
    "\n",
    "# Data model\n",
    "class GradeDocuments(BaseModel):\n",
    "    \"\"\"Binary score for relevance check on retrieved documents.\"\"\"\n",
    "\n",
    "    binary_score: str = Field(\n",
    "        description=\"Documents are relevant to the question, 'yes' or 'no'\"\n",
    "    )\n",
    "\n",
    "\n",
    "# LLM with function call\n",
    "llm = ChatOpenAI(model=\"gpt-4o-mini\", temperature=0)\n",
    "structured_llm_grader = llm.with_structured_output(GradeDocuments)\n",
    "\n",
    "# Prompt\n",
    "system = \"\"\"You are a grader assessing relevance of a retrieved document to a user question. \\n \n",
    "    It does not need to be a stringent test. The goal is to filter out erroneous retrievals. \\n\n",
    "    If the document contains keyword(s) or semantic meaning related to the user question, grade it as relevant. \\n\n",
    "    Give a binary score 'yes' or 'no' score to indicate whether the document is relevant to the question.\"\"\"\n",
    "grade_prompt = ChatPromptTemplate.from_messages(\n",
    "    [\n",
    "        (\"system\", system),\n",
    "        (\"human\", \"Retrieved document: \\n\\n {document} \\n\\n User question: {question}\"),\n",
    "    ]\n",
    ")\n",
    "\n",
    "retrieval_grader = grade_prompt | structured_llm_grader\n",
    "question = \"What was assessed in Proposal No. 7 ?\"\n",
    "docs = retriever.get_relevant_documents(question)\n",
    "doc_txt = docs[1].page_content\n",
    "print(retrieval_grader.invoke({\"question\": question, \"document\": doc_txt}))"
   ]
  },
  {
   "cell_type": "code",
   "execution_count": null,
   "id": "09a467f0",
   "metadata": {},
   "outputs": [],
   "source": []
  },
  {
   "cell_type": "code",
   "execution_count": 17,
   "id": "d0223c8d-cd77-438b-bf4b-f0b130cff4a1",
   "metadata": {},
   "outputs": [
    {
     "name": "stderr",
     "output_type": "stream",
     "text": [
      "/home/azzedine/.local/lib/python3.10/site-packages/langsmith/client.py:241: LangSmithMissingAPIKeyWarning: API key must be provided when using hosted LangSmith API\n",
      "  warnings.warn(\n"
     ]
    },
    {
     "name": "stdout",
     "output_type": "stream",
     "text": [
      "Proposal No. 7 assessed the need for Apple Inc. to prepare a transparency report on its use of Artificial Intelligence (AI) and disclose any ethical guidelines related to AI technology. The proposal argued that increased AI usage raises significant social policy issues, including concerns about discrimination and job automation. It called for preemptive corporate self-regulation to address potential conflicts arising from AI before they occur.\n"
     ]
    }
   ],
   "source": [
    "### Generate\n",
    "\n",
    "from langchain import hub\n",
    "from langchain_core.output_parsers import StrOutputParser\n",
    "\n",
    "# Prompt\n",
    "prompt = hub.pull(\"rlm/rag-prompt\")\n",
    "\n",
    "# LLM\n",
    "llm = ChatOpenAI(model_name=\"gpt-4o-mini\", temperature=0)\n",
    "\n",
    "\n",
    "# Post-processing\n",
    "def format_docs(docs):\n",
    "    return \"\\n\\n\".join(doc.page_content for doc in docs)\n",
    "\n",
    "\n",
    "# Chain\n",
    "rag_chain = prompt | llm | StrOutputParser()\n",
    "\n",
    "# Run\n",
    "generation = rag_chain.invoke({\"context\": docs, \"question\": question})\n",
    "print(generation)"
   ]
  },
  {
   "cell_type": "code",
   "execution_count": 18,
   "id": "160ff5d0-2126-4128-ab1c-e18902566bc0",
   "metadata": {},
   "outputs": [],
   "source": [
    "FINANCE_API_KEY='cte32t9r01qt478kvedgcte32t9r01qt478kvee0'"
   ]
  },
  {
   "cell_type": "code",
   "execution_count": 2,
   "id": "41cd698c-fb23-4262-8395-3c48aafcb4f9",
   "metadata": {},
   "outputs": [
    {
     "name": "stdout",
     "output_type": "stream",
     "text": [
      "Defaulting to user installation because normal site-packages is not writeable\n",
      "Collecting finnhub-python\n",
      "  Downloading finnhub_python-2.4.22-py3-none-any.whl (11 kB)\n",
      "Requirement already satisfied: requests>=2.22.0 in /home/azzedine/.local/lib/python3.10/site-packages (from finnhub-python) (2.32.3)\n",
      "Requirement already satisfied: charset-normalizer<4,>=2 in /home/azzedine/.local/lib/python3.10/site-packages (from requests>=2.22.0->finnhub-python) (3.4.0)\n",
      "Requirement already satisfied: idna<4,>=2.5 in /home/azzedine/.local/lib/python3.10/site-packages (from requests>=2.22.0->finnhub-python) (3.10)\n",
      "Requirement already satisfied: certifi>=2017.4.17 in /home/azzedine/.local/lib/python3.10/site-packages (from requests>=2.22.0->finnhub-python) (2024.8.30)\n",
      "Requirement already satisfied: urllib3<3,>=1.21.1 in /home/azzedine/.local/lib/python3.10/site-packages (from requests>=2.22.0->finnhub-python) (2.2.3)\n",
      "Installing collected packages: finnhub-python\n",
      "Successfully installed finnhub-python-2.4.22\n"
     ]
    }
   ],
   "source": [
    "!pip install finnhub-python"
   ]
  },
  {
   "cell_type": "code",
   "execution_count": 19,
   "id": "4ec23016-83fb-4aea-9f11-a20f14a2ed80",
   "metadata": {},
   "outputs": [
    {
     "name": "stdout",
     "output_type": "stream",
     "text": [
      "[{'category': 'company', 'datetime': 1734072300, 'headline': 'American Century Focused Dynamic Growth Fund Q3 2024 Commentary', 'id': 131963716, 'image': 'https://static.seekingalpha.com/cdn/s3/uploads/getty_images/1358927461/image_1358927461.jpg?io=getty-c-w1536', 'related': 'AAPL', 'source': 'SeekingAlpha', 'summary': 'The broad U.S. stock market posted solid gains that saw a reversal of trends from the first half of the year. Click here to read the full commentary. ', 'url': 'https://finnhub.io/api/news?id=de1a9e3597b99763ff340611ce4c76539e433699021b7f08351ac79069fef323'}, {'category': 'company', 'datetime': 1734064506, 'headline': \"Here's Why Apple Is Our Highest Conviction Short For 2025\", 'id': 131962096, 'image': 'https://static.seekingalpha.com/cdn/s3/uploads/getty_images/1705316992/image_1705316992.jpg?io=getty-c-w1536', 'related': 'AAPL', 'source': 'SeekingAlpha', 'summary': \"Apple's upsurge since June is driving a widening divergence from its stalling fundamental growth outlook. See why AAPL stock is a Sell.\", 'url': 'https://finnhub.io/api/news?id=079cd299465f892abbfe8cfd4e92850f181053cdcdcdfd2f9a05009d19dc2a12'}, {'category': 'company', 'datetime': 1734032984, 'headline': \"Citi Analyst Highlights Apple's iOS 18.2 Launch as a Key Milestone in AI Expansion\", 'id': 131939899, 'image': 'https://media.zenfs.com/en/us.finance.gurufocus/f6d5f9d51b104961cf24aa8d5b100889', 'related': 'AAPL', 'source': 'Yahoo', 'summary': 'Atif Malik from Citi maintained a \"Buy\" rating on Apple with a $255 price target.', 'url': 'https://finnhub.io/api/news?id=8a17b91cfe9243f221fcf6f6dde941e7598a121e19b5f62a15bdbff8dc8537e1'}, {'category': 'company', 'datetime': 1734032838, 'headline': 'Apple nears switch to in-house Bluetooth and Wi-Fi chip for iPhone, smart home, Bloomberg reports', 'id': 131939900, 'image': 'https://media.zenfs.com/en/reuters-finance.com/cecc8f6bb894faebded19f73173da3a8', 'related': 'AAPL', 'source': 'Yahoo', 'summary': \"The chip, code-named Proxima, has been under development for several years and is now slated to go into the first iPhones and smart home devices produced in 2025, the report said, citing people familiar with the matter.  The iPhone maker's in-house chips will be produced by Taiwan Semiconductor Manufacturing Co, the report added.  At its annual developer conference in June, Apple said that it plans to use its own server chips to help power artificial intelligence features on its devices.\", 'url': 'https://finnhub.io/api/news?id=02763e37969ba62decf5621d83fb598391f4ae1830e874e48788173af62afcd6'}, {'category': 'company', 'datetime': 1734029836, 'headline': 'Apple nears switch from Broadcom chips; eyes in-house launch next year: Bloomberg', 'id': 131934805, 'image': 'https://s.yimg.com/cv/apiv2/social/images/yahoo_default_logo-1200x1200.png', 'related': 'AAPL', 'source': 'Yahoo', 'summary': 'Investing.com -- Apple Inc is set to replace Broadcom components with its own in-house chip for Bluetooth and Wi-Fi connections starting next year, Bloomberg reported Wednesday, citing people familiar with the matter.', 'url': 'https://finnhub.io/api/news?id=5818765384eb84989c33485d700da143dc446aae21bc1938605b87cdc8ed303a'}, {'category': 'company', 'datetime': 1734028626, 'headline': 'Double Down On Shorting Nvidia In 2025', 'id': 131952395, 'image': '', 'related': 'AAPL', 'source': 'SeekingAlpha', 'summary': '', 'url': 'https://finnhub.io/api/news?id=555a2ba61a593bf7239d14749d934f93f0560239c4396f01c3fd84ec6386d486'}, {'category': 'company', 'datetime': 1734028557, 'headline': 'United Airlines Integrates Apple AirTag Into App To Help Track Lost Bags', 'id': 131939904, 'image': 'https://www.investopedia.com/thmb/5gFoJQZ4Xg7JAzRUGdbm224lhzA=/1500x0/filters:no_upscale():max_bytes(150000):strip_icc()/GettyImages-1245859086-9855c63983444cfcaf5b959f34789e6c.jpg', 'related': 'AAPL', 'source': 'Yahoo', 'summary': \"United Airlines passengers with lost baggage may be reunited with their items more quickly thanks to new integration between the carrier's mobile app and Apple AirTag.\", 'url': 'https://finnhub.io/api/news?id=3cf09539d316294b34bfd1d44fc9d9cfc9d1f49eba68ba1123f0760d559b91b1'}, {'category': 'company', 'datetime': 1734027654, 'headline': 'Broadcom Earnings: This Train Cannot Be Stopped', 'id': 131951709, 'image': 'https://static.seekingalpha.com/cdn/s3/uploads/getty_images/1657921553/image_1657921553.jpg?io=getty-c-w1536', 'related': 'AAPL', 'source': 'SeekingAlpha', 'summary': \"Learn about Broadcom Inc.'s Q4 earnings report showcasing impressive growth driven by AI revenue, leading to AVGO stock being a Buy. Click for my earnings update.\", 'url': 'https://finnhub.io/api/news?id=126d54995fb959d9c680fbf187a86b72822358ab6142df07e1b0e6b86e5258bd'}, {'category': 'company', 'datetime': 1734026470, 'headline': 'Apple went public 44 years ago—what your $10,000 investment would be worth today', 'id': 131939906, 'image': 'https://s.yimg.com/ny/api/res/1.2/63dkeRyGqI4Pd9wtQipkVA--/YXBwaWQ9aGlnaGxhbmRlcjt3PTEyMDA7aD03OTc-/https://media.zenfs.com/en/fortune_175/84628b454b74b33c5165e905e775a364', 'related': 'AAPL', 'source': 'Yahoo', 'summary': 'Apple has become the largest company in the world, becoming the world’s first firm to reach a $3 trillion valuation in 2022.', 'url': 'https://finnhub.io/api/news?id=6515f5ec97ba0de3c552dae8f7c0071294693d357300a6770c9deb51a4934a69'}, {'category': 'company', 'datetime': 1734024511, 'headline': 'Google announces Android XR operating system for new headsets and smart glasses', 'id': 131931348, 'image': 'https://s.yimg.com/ny/api/res/1.2/RYYF2yHst4Ct_kmUXLJzdw--/YXBwaWQ9aGlnaGxhbmRlcjt3PTEyMDA7aD02NzU-/https://media.zenfs.com/en/snappa.ukfinance/c930c6af474f36aac1e51623362b01e9', 'related': 'AAPL', 'source': 'Yahoo', 'summary': 'The tech giant has partnered with chip maker Qualcomm and Samsung on the project, and a Samsung-made headset will launch in 2025.', 'url': 'https://finnhub.io/api/news?id=1cb0e058f64368c611dffa0adeab5026307018c33537dc6520cad839f77e031a'}, {'category': 'company', 'datetime': 1734024376, 'headline': 'Looking Glass rolls out Apple iOS hologram support', 'id': 131946858, 'image': '', 'related': 'AAPL', 'source': 'Finnhub', 'summary': 'Looking Glass, a hologram technology provider, has rolled out iOS support via Unity integration, according to a press release.The move brings Looking Glass 3D content tools to latest-gen Apple iPhone...', 'url': 'https://finnhub.io/api/news?id=014a00b7a3905536ae21f857ed53703e0d5ca36b5a597bf6f7f7fc4f6e250ff0'}, {'category': 'company', 'datetime': 1734023010, 'headline': 'Apple reportedly partners with Broadcom', 'id': 131931618, 'image': 'https://www.verdict.co.uk/wp-content/uploads/2024/12/Apple_shutterstock_2427127541-1.jpg', 'related': 'AAPL', 'source': 'Yahoo', 'summary': 'The AI chip is reportedly anticipated to be ready for mass production by 2026.', 'url': 'https://finnhub.io/api/news?id=d090d29b7f28699bb6063a863d27aa9630cbfae6ac8986261e7a1577d55e0958'}, {'category': 'company', 'datetime': 1734022800, 'headline': '2024 Acura ZDX Type S: The Fast and the Forgettable', 'id': 131934812, 'image': '', 'related': 'AAPL', 'source': 'Yahoo', 'summary': 'The five-seat, four-door crossover offers robust performance akin to that of the Cadillac Lyriq. But in a less attractive package inside and out, writes Dan Neil.', 'url': 'https://finnhub.io/api/news?id=83d0e5a29bd64d3454ff038265efd944efbc5e20822cd759d8eba12fcab12a9b'}, {'category': 'company', 'datetime': 1734019234, 'headline': 'Google and Samsung debut Android XR amid VR, smart glasses push', 'id': 131931353, 'image': 'https://s.yimg.com/ny/api/res/1.2/aPrX_cnn81xBN9WSz.FDiw--/YXBwaWQ9aGlnaGxhbmRlcjt3PTEyMDA7aD05OTc-/https://s.yimg.com/os/creatr-uploaded-images/2024-12/8ada5610-b894-11ef-beb9-83c81c48e90b', 'related': 'AAPL', 'source': 'Yahoo', 'summary': 'Google debuts Android XR operating system gear toward VR headsets and AR smart glasses.', 'url': 'https://finnhub.io/api/news?id=703c570f9040ee9690b05aeb290ea448c805c6a06f2290e0d1e52a18cce80308'}, {'category': 'company', 'datetime': 1734019200, 'headline': 'Google Unveils Mixed-Reality Headset With Samsung, Taking on Apple and Meta', 'id': 131931354, 'image': 'https://s.yimg.com/ny/api/res/1.2/QlyZqOvI1.foRqE3BuVVcg--/YXBwaWQ9aGlnaGxhbmRlcjt3PTEyMDA7aD02NjE-/https://media.zenfs.com/en/bloomberg_technology_68/18cee5f39fd631af5c062f110700dc2a', 'related': 'AAPL', 'source': 'Yahoo', 'summary': \"(Bloomberg) -- Alphabet Inc.’s Google and Samsung Electronics Co. unveiled a joint push into the mixed-reality market, introducing a new operating system and headset in a bid to challenge devices from Apple Inc. and Meta Platforms Inc.Most Read from BloombergHong Kong's Expat Party Hub Reshaped by Chinese InfluxBrace for a Nationwide Shuffle of Corporate HeadquartersAmerican Institute of Architects CEO ResignsCity Hall Is HiringCloud Computing Tax Threatens Chicago’s Silicon Valley DreamIn what\", 'url': 'https://finnhub.io/api/news?id=784536ad382911204cea69db2367132a02841a22e01c3b22b2aa65a719b220ef'}, {'category': 'company', 'datetime': 1734017606, 'headline': \"There's only 2 Magnificent 7 names this strategist likes for 2025\", 'id': 131929610, 'image': 'https://s.yimg.com/ny/api/res/1.2/kTvjWjvQzpV.EUenqnyJaA--/YXBwaWQ9aGlnaGxhbmRlcjt3PTEyMDA7aD02NzU-/https://s.yimg.com/os/creatr-uploaded-images/2024-12/bd798a10-b89d-11ef-b7fe-c5e845fab118', 'related': 'AAPL', 'source': 'Yahoo', 'summary': 'With some expecting a market correction in 2025, Harvest Portfolio Management CIO and Wall Street Beats partner Paul Meeks joins Brad Smith on Morning Brief to discuss his top stock picks for the new year. \"Of the [Magnificent Seven], the only ones I really support for growth and valuation at this level are Amazon (AMZN), which I think we\\'ll see a nice upside surprise when they report, and also Nvidia (NVDA),\" Meeks says. \"I am going to, at least in the early part of 2025, stick with my AI infrastructure building plays. Those are primarily semiconductor companies like the aforementioned Nvidia. I\\'m also starting to warm up to Advanced Micro Devices (AMD) because it\\'s come down a lot. I like Broadcom (AVGO), which will be reporting tonight, and I also like Marvell [Techonology] and Taiwan [Semiconductor Manufacturing Company].\" To watch more expert insights and analysis on the latest market action, check out more Morning Brief here. This post was written by Naomi Buchanan.', 'url': 'https://finnhub.io/api/news?id=cc8e08afd9eba5811a1cd1115a61fcc9de59c7019b597460ab124b06cc048178'}, {'category': 'company', 'datetime': 1734017556, 'headline': 'Apple Stake Rises in Generate Investment Portfolio by $61.6 Million', 'id': 131929611, 'image': 'https://media.zenfs.com/en/us.finance.gurufocus/d20a3b67b283824e6c758361da423604', 'related': 'AAPL', 'source': 'Yahoo', 'summary': 'Institutional Buying Pushes Apple Shares Higher in Q3 Filings', 'url': 'https://finnhub.io/api/news?id=ab1a9768412c320c367fe582c26df83b2196e6426afcb79a4399033797eccb09'}, {'category': 'company', 'datetime': 1734016860, 'headline': 'Apple, Microsoft, and Nvidia Will Be Worth $4 Trillion, and More Predictions From a Tech Bull', 'id': 131934826, 'image': '', 'related': 'AAPL', 'source': 'Yahoo', 'summary': 'There are few Wall Street analysts more bullish on the technology sector than Wedbush Securities’ Dan Ives.  Apple  will be the first company to ever reach a market valuation of $4 trillion, swiftly followed by  Nvidia  and  Microsoft  according to Ives.  “We expect tech stocks to be up another 25% in 2025 under our base case,” Ives wrote in a research note.', 'url': 'https://finnhub.io/api/news?id=a6462f9b5a4bd99dc2c9d213b3ce7b597d45d9026af2eba571539773478ecb65'}, {'category': 'company', 'datetime': 1734013966, 'headline': '3 Reasons 2025 Looks Scary For The S&P 500: VOO', 'id': 131935113, 'image': 'https://static.seekingalpha.com/cdn/s3/uploads/getty_images/2163212545/image_2163212545.jpg?io=getty-c-w1536', 'related': 'AAPL', 'source': 'SeekingAlpha', 'summary': 'Discover 3 reasons why investors should approach the Vanguard S&P 500 ETF (VOO) with caution, and how to adjust your portfolio accordingly.', 'url': 'https://finnhub.io/api/news?id=a2fb640bebd9af44ef5e80d54b9df16d790dd0e9c5b77664b9088370556afddb'}, {'category': 'company', 'datetime': 1734012540, 'headline': 'Warner Discovery to Restructure, Setting Up Potential ‘Strategic Opportunities’', 'id': 131929612, 'image': '', 'related': 'AAPL', 'source': 'Yahoo', 'summary': 'The entertainment company would have two operating divisions, one focused on the legacy cable TV business and the other on streaming and studios.', 'url': 'https://finnhub.io/api/news?id=70a194384ad0c6b16cff51e86a5b52bf2e3eea001aefcd4e0c4bb1face7fe4c5'}, {'category': 'company', 'datetime': 1734012254, 'headline': 'Apple Devices Set to Switch to In-House Chip in Shift From Broadcom, Sources Say, Bloomberg Reports', 'id': 131932809, 'image': '', 'related': 'AAPL', 'source': 'Finnhub', 'summary': \"--Apple's in-house component plans for its devices include switching to a homegrown chip starting next year, Bloomberg reported, citing people familiar with the matter. --The iPhone-maker's chip,...\", 'url': 'https://finnhub.io/api/news?id=6cf2865fc1f520544bc8cee0a899e0945d7f7798f180cddd5dcd7a3fd2e762a8'}, {'category': 'company', 'datetime': 1734012000, 'headline': 'Building A $50,000 Dividend Portfolio Across 2 ETFs And 10 High Yield Picks', 'id': 131933119, 'image': 'https://static.seekingalpha.com/cdn/s3/uploads/getty_images/1036558944/image_1036558944.jpg?io=getty-c-w1536', 'related': 'AAPL', 'source': 'SeekingAlpha', 'summary': 'Discover a dividend portfolio with minimized risks, growth potential, and attractive valuations - a better option than investing in VOO or VYM.', 'url': 'https://finnhub.io/api/news?id=ed03f3821fdbad24b38b5f41414d70ef6a576a3ae6abac10e3fb3dc49db6538b'}, {'category': 'company', 'datetime': 1734008177, 'headline': 'Apple: Much To Prove In 2025', 'id': 131931570, 'image': 'https://static.seekingalpha.com/cdn/s3/uploads/getty_images/113252283/image_113252283.jpg?io=getty-c-w1536', 'related': 'AAPL', 'source': 'SeekingAlpha', 'summary': 'Apple shares struggle to keep up with big tech peers. Find out why AAPL stock may need significant upgrades to drive revenue growth in 2025.', 'url': 'https://finnhub.io/api/news?id=9f5ac38136a835d9ed1c0950472effd7dc0ea27647c1073eacb306eff43faa43'}, {'category': 'company', 'datetime': 1734006600, 'headline': '4 Brilliant Reasons Why Apple Should Buy Bitcoin', 'id': 131929613, 'image': 'https://g.foolcdn.com/editorial/images/800315/gold-coins-with-bitcoin-logo-on-them.jpg', 'related': 'AAPL', 'source': 'Yahoo', 'summary': \"At its annual shareholders meeting on Dec. 10, Microsoft investors will vote on whether or not the business can invest in Bitcoin (CRYPTO: BTC).  Seeing the price of the digital asset soar 1,300% in the past five years and 140% just in 2024 (as of Dec. 9) is certainly drawing the attention of corporate executives who at least acknowledge that it might make sense to hold some Bitcoin on the balance sheet.  While no proposal is on the docket for Apple (NASDAQ: AAPL), the world's most valuable company, I believe the consumer tech juggernaut should start thinking about the world's top cryptocurrency.\", 'url': 'https://finnhub.io/api/news?id=fe34e76fa7fa87ef34680624d02e14b382e9a8e0fc6a4520ec9e1933c28e9977'}, {'category': 'company', 'datetime': 1734004968, 'headline': 'Apple Pay users in Canada gain access to Klarna’s pay later services', 'id': 131929614, 'image': 'https://www.electronicpaymentsinternational.com/wp-content/uploads/sites/4/2024/11/klarna-shutterstock_1927116245.jpg', 'related': 'AAPL', 'source': 'Yahoo', 'summary': \"Klarna's Pay in 4 service offers consumers ability to make four fixed payments for purchases.\", 'url': 'https://finnhub.io/api/news?id=50f10979e04536d9b1618fe1bbe0b9db8271293d7e5f6de7260b4f9aebb79a30'}, {'category': 'company', 'datetime': 1734004260, 'headline': 'Nvidia Stock Falls. Microsoft’s Market Value Overtakes the Chip Maker.', 'id': 131932274, 'image': '', 'related': 'AAPL', 'source': 'MarketWatch', 'summary': 'Nvidia Stock Falls. Microsoft’s Market Value Overtakes the Chip Maker.', 'url': 'https://finnhub.io/api/news?id=cb0f7c1cb13a0b54ea7c9ddd1e8f503e2ee1a3cd1cb10311ace80f23d5f23531'}, {'category': 'company', 'datetime': 1734003000, 'headline': 'Google’s Quantum Boost Doesn’t Really Compute', 'id': 131928381, 'image': 'https://media.zenfs.com/en/wsj.com/7b2c285183be07ca3c4e8242b25a59a8', 'related': 'AAPL', 'source': 'Yahoo', 'summary': 'Alphabet’s sagging stock has been primed for any good news, but quantum computing’s payoff is years away at best.', 'url': 'https://finnhub.io/api/news?id=86facb53aa3a2138c97cf55bfe99be6ec44178cb258aa6977d856b2485d21449'}, {'category': 'company', 'datetime': 1734000960, 'headline': 'Pioneer Fundamental Growth Fund Q3 2024 Performance And Market Commentary', 'id': 131929609, 'image': 'https://static.seekingalpha.com/cdn/s3/uploads/getty_images/1402582104/image_1402582104.jpg?io=getty-c-w1536', 'related': 'AAPL', 'source': 'SeekingAlpha', 'summary': 'Pioneer Fundamental Growth Fund portfolio returned 1.93% for the quarter, compared with 3.19% of its benchmark, the RLG. Read more here.', 'url': 'https://finnhub.io/api/news?id=d7e61de78d3905dc0b3548cd0f93036b617f4a775fac398db91aa5606f53642d'}, {'category': 'company', 'datetime': 1733999820, 'headline': 'Apple vs. Nvidia: Which Will Hit a $4 Trillion Market Cap First?', 'id': 131929619, 'image': 'https://g.foolcdn.com/editorial/images/800304/a-person-using-a-chatbot-on-their-laptop.jpg', 'related': 'AAPL', 'source': 'Yahoo', 'summary': 'Apple (NASDAQ: AAPL) and Nvidia (NASDAQ: NVDA) are the two most valuable companies in the world.  The advantage Apple has in reaching $4 trillion first is that as of last week, it had a higher market cap than Nvidia -- nearly $3.7 trillion versus $3.4 trillion for the chipmaker.', 'url': 'https://finnhub.io/api/news?id=1fa9b4576ae82172b35481173426d6dd5200fb095d1172b9a1051484bc6e111f'}, {'category': 'company', 'datetime': 1733999494, 'headline': \"Apple's AI Chips Could Shake Up The Market (Rating Upgrade)\", 'id': 131929381, 'image': 'https://static.seekingalpha.com/cdn/s3/uploads/getty_images/1468259686/image_1468259686.jpg?io=getty-c-w1536', 'related': 'AAPL', 'source': 'SeekingAlpha', 'summary': 'Apple is reportedly developing its own AI chip with Broadcom, potentially disrupting the AI chip market if sold externally. See why we shift from sell to hold.', 'url': 'https://finnhub.io/api/news?id=63397f39fdf75150546e26ae0db188da1a99317a644e63783c5d2ee7e94ad62e'}, {'category': 'company', 'datetime': 1733998200, 'headline': 'Broadcom Earnings Are Coming. Its AI Ride Could Be Bumpy.', 'id': 131932276, 'image': '', 'related': 'AAPL', 'source': 'MarketWatch', 'summary': 'Broadcom Earnings Are Coming. Its AI Ride Could Be Bumpy.', 'url': 'https://finnhub.io/api/news?id=e2619f70cdfccdce4f054f4e64fdc1897770d5044862f4f059ad3067374253f0'}, {'category': 'company', 'datetime': 1733997893, 'headline': 'Dow Jones Falls On Hot Inflation Data; Tesla Reverses Lower, Nvidia Slides', 'id': 131932257, 'image': '', 'related': 'AAPL', 'source': 'DowJones', 'summary': 'Dow Jones Falls On Hot Inflation Data; Tesla Reverses Lower, Nvidia Slides', 'url': 'https://finnhub.io/api/news?id=5c0ba41a0a42ac7fc2fa11fea909f9fe4d067147d341bf8e4b8d785c6192e3bc'}, {'category': 'company', 'datetime': 1733997660, 'headline': 'Pioneer Fund Q3 2024 Performance Analysis And Market Commentary', 'id': 131929125, 'image': 'https://static.seekingalpha.com/cdn/s3/uploads/getty_images/1688767071/image_1688767071.jpg?io=getty-c-w1536', 'related': 'AAPL', 'source': 'SeekingAlpha', 'summary': 'Pioneer Fundâ\\x80\\x99s Class Y Shares returned 3.79% in the quarter, underperforming the 5.89% return of the Fundâ\\x80\\x99s benchmark, the SPX. Read more here.', 'url': 'https://finnhub.io/api/news?id=5019bef92599b5c21a5c578d40f79a47db302af4a75f55eebd9173bc8a4d65c8'}, {'category': 'company', 'datetime': 1733995380, 'headline': 'Got $5,000? You Might Want to Buy These 3 Unstoppable Stocks', 'id': 131928720, 'image': 'https://g.foolcdn.com/editorial/images/800296/a-couple-meeting-with-an-advisor.jpg', 'related': 'AAPL', 'source': 'Yahoo', 'summary': \"An unstoppable stock is one that has a promising trajectory ahead where there's little doubt about its future growth opportunities.  This is the type of investment where the company is also equipped with strong resources and fundamentals, allowing it to take advantage of opportunities that may arise in the future.  Three unstoppable stocks that can be safe options for investors to build their portfolios around right now include Walmart (NYSE: WMT), Apple (NASDAQ: AAPL), and Costco Wholesale (NASDAQ: COST).\", 'url': 'https://finnhub.io/api/news?id=9f971024690fc6a2470172eb885f278540a04561fded41acd00af3c4a0451ab4'}, {'category': 'company', 'datetime': 1733994940, 'headline': 'Why Apple Inc. (AAPL) Is the Best Augmented Reality Stock to Buy Now?', 'id': 131929626, 'image': 'https://s.yimg.com/ny/api/res/1.2/e1QwhqQiBt5ecLL5Qx6Rkg--/YXBwaWQ9aGlnaGxhbmRlcjt3PTEyMDA7aD02NzM-/https://media.zenfs.com/en/insidermonkey.com/bd47dc2e86b4a3086f845d200d9daf1f', 'related': 'AAPL', 'source': 'Yahoo', 'summary': 'We recently published a list of 10 Best Augmented Reality Stocks To Buy Now. In this article, we are going to take a look at where Apple Inc. (NASDAQ:AAPL) stands against other best augmented reality stocks to buy now. According to a report by Mordor Intelligence, the global augmented reality (AR) market has a market […]', 'url': 'https://finnhub.io/api/news?id=fd3a242c35d9732a6d69a3e9b3f410fbe73c1316d130c86a0cbd5e4f19cc0e70'}, {'category': 'company', 'datetime': 1733994393, 'headline': 'GE Vernova: Valued Like The Magnificent 7, Delivering Like An Industrial', 'id': 131928580, 'image': 'https://static.seekingalpha.com/cdn/s3/uploads/getty_images/1481351399/image_1481351399.jpg?io=getty-c-w1536', 'related': 'AAPL', 'source': 'SeekingAlpha', 'summary': \"GE Vernova's valuation is excessively high, trading at ~3x revenue, despite modest revenue growth and low profit margins. Read my analysis of GEV stock.\", 'url': 'https://finnhub.io/api/news?id=884e0677e32ff9eaf28613d88a004ae8d34b805d515fbd178d6dd98342060a19'}, {'category': 'company', 'datetime': 1733994162, 'headline': 'Apple Moves Ahead In AI With New Broadcom Deal', 'id': 131928582, 'image': 'https://static.seekingalpha.com/cdn/s3/uploads/getty_images/2148123501/image_2148123501.jpg?io=getty-c-w1536', 'related': 'AAPL', 'source': 'SeekingAlpha', 'summary': 'Apple and Broadcom collaborate on custom server AI chip. Deal benefits Broadcom more than Apple.', 'url': 'https://finnhub.io/api/news?id=35302fc1336d2790c915ae628d1733fd1a05c2922465f268dae4743641a4a84f'}, {'category': 'company', 'datetime': 1733990226, 'headline': 'Dow Jones Futures Fall After Tesla, Titans Push Nasdaq Above 20,000; What To Do Now', 'id': 131932258, 'image': '', 'related': 'AAPL', 'source': 'DowJones', 'summary': 'Dow Jones Futures Fall After Tesla, Titans Push Nasdaq Above 20,000; What To Do Now', 'url': 'https://finnhub.io/api/news?id=c5417b9e97e59bed90a1c174b189ee7b75cd95c4d26c5afa2c155fb8bc94b1e1'}, {'category': 'company', 'datetime': 1733987700, 'headline': 'Zacks Investment Ideas feature highlights: Apple,  Alphabet and Tesla', 'id': 131926399, 'image': 'https://media.zenfs.com/en/zacks.com/30e90ac213ebedcfe9ef1b79c529169c', 'related': 'AAPL', 'source': 'Yahoo', 'summary': 'Apple, Alphabet and Tesla have been highlighted in this Investment Ideas article.', 'url': 'https://finnhub.io/api/news?id=44b6ee22d0078b70be5aa2a6231c63215818acd8853c3ca8d089c8fe6fdd0e34'}, {'category': 'company', 'datetime': 1733980860, 'headline': 'Pioneer Equity Income Fund Q3 2024 Performance And Market Commentary', 'id': 131926507, 'image': 'https://static.seekingalpha.com/cdn/s3/uploads/getty_images/1628675510/image_1628675510.jpg?io=getty-c-w1536', 'related': 'AAPL', 'source': 'SeekingAlpha', 'summary': 'For the third quarter of 2024, Pioneer Equity Income Fundâ\\x80\\x99s Class Y shares underperformed the Fundâ\\x80\\x99s benchmark, the RLV, returning 7.77% vs 9.43% respectively.', 'url': 'https://finnhub.io/api/news?id=242da56334412f4899b4106cf7982b62fd738d509ff57f7b2ea1fa81f5089cf8'}, {'category': 'company', 'datetime': 1733963580, 'headline': \"How does Google's Gemini 2.0 stack up against OpenAI?\", 'id': 131924054, 'image': 'https://s.yimg.com/ny/api/res/1.2/ZbAT_vNb5LTpxxbba7z6Gg--/YXBwaWQ9aGlnaGxhbmRlcjt3PTEyMDA7aD02NzQ-/https://s.yimg.com/os/creatr-uploaded-images/2024-12/a69e4d60-b80e-11ef-af9d-8fdf93f4851c', 'related': 'AAPL', 'source': 'Yahoo', 'summary': 'As Apple (AAPL) and Alphabet (GOOG, GOOGL) shares hit record highs on artificial intelligence (AI) announcements, Intelligent Alpha founder and CEO Doug Clinton joins Josh Lipton Asking for a Trend to discuss the competitive landscape between \"[OpenAI CEO] Sam Altman is a formidable competitor. He\\'s very hard to compete against, but I actually think the landscape has sort of changed over the last six months,\" Clinton says. \"If you look at the landscape today, it\\'s very competitive. OpenAI, to me, is still in the lead, but you\\'ve got Google very close behind. I think Anthropic with Claude has done a great job and, of course, as you mentioned, xAI.\" Clinton notes Intelligent Alpha is invested in xAI. To watch more expert insights and analysis on the latest market action, check out more Asking for a Trend here. This post was written by Naomi Buchanan.', 'url': 'https://finnhub.io/api/news?id=b6aad228c336946226ff21b556f23c36f219cfe1f79fb090964da8b08e4015be'}]\n"
     ]
    }
   ],
   "source": [
    "import finnhub\n",
    "\n",
    "# Setup client\n",
    "finnhub_client = finnhub.Client(api_key=FINANCE_API_KEY)\n",
    "\n",
    "# Company News\n",
    "# Need to use _from instead of from to avoid conflict\n",
    "print(finnhub_client.company_news('AAPL', _from=\"2024-12-12\", to=\"2024-12-13\"))"
   ]
  },
  {
   "cell_type": "code",
   "execution_count": 69,
   "id": "6b9b0b8a-053e-4534-be9c-000b48d5376f",
   "metadata": {},
   "outputs": [],
   "source": [
    "!pip install --upgrade --quiet  yfinance"
   ]
  },
  {
   "cell_type": "code",
   "execution_count": 75,
   "id": "dc73342a-7201-4cf9-8511-0761e4b1cdf0",
   "metadata": {},
   "outputs": [
    {
     "data": {
      "text/plain": [
       "'The broad U.S. stock market posted solid gains that saw a reversal of trends from the first half of the year. Click here to read the full commentary. '"
      ]
     },
     "execution_count": 75,
     "metadata": {},
     "output_type": "execute_result"
    }
   ],
   "source": [
    "from langchain_core.tools import tool\n",
    "\n",
    "# Define a tool to fetch the finance news\n",
    "@tool\n",
    "def get_finance_news(company:str, start_date:str, end_date:str) -> str:\n",
    "    \"\"\"A tool that fetches finance news from the Finnhub API.\"\"\"\n",
    "    # Your existing API call logic here\n",
    "    finnhub_client = finnhub.Client(api_key=FINANCE_API_KEY)\n",
    "    \n",
    "    response = finnhub_client.company_news(company, _from=start_date, to=end_date)\n",
    "    summary = response[0]['summary']\n",
    "    return summary\n",
    "\n",
    "get_finance_news.invoke({\"company\":'AAPL', \"start_date\":'2024-12-12', \"end_date\":'2024-12-13'})\n"
   ]
  },
  {
   "cell_type": "code",
   "execution_count": 53,
   "id": "bfd760c7",
   "metadata": {},
   "outputs": [],
   "source": [
    "@tool\n",
    "def add(a: int, b: int) -> int:\n",
    "    \"\"\"Add two integers.\n",
    "\n",
    "    Args:\n",
    "        a: First integer\n",
    "        b: Second integer\n",
    "    \"\"\"\n",
    "    return a + b"
   ]
  },
  {
   "cell_type": "markdown",
   "id": "260e5163",
   "metadata": {},
   "source": [
    "-----"
   ]
  },
  {
   "cell_type": "markdown",
   "id": "827c3b3e",
   "metadata": {},
   "source": [
    "# Creation de l'agent simple (Agent + Tools)"
   ]
  },
  {
   "cell_type": "code",
   "execution_count": 84,
   "id": "303bd974",
   "metadata": {},
   "outputs": [],
   "source": [
    "import getpass\n",
    "import os\n",
    "\n",
    "if not os.environ.get(\"OPENAI_API_KEY\"):\n",
    "  os.environ[\"OPENAI_API_KEY\"] = getpass.getpass(\"Enter API key for OpenAI: \")\n",
    "\n",
    "from langchain_openai import ChatOpenAI\n",
    "\n",
    "llm = ChatOpenAI(model=\"gpt-4o-mini\")"
   ]
  },
  {
   "cell_type": "code",
   "execution_count": 85,
   "id": "244ae33a",
   "metadata": {},
   "outputs": [],
   "source": [
    "from langchain_core.tools import tool\n",
    "\n",
    "\n",
    "@tool\n",
    "def get_finance_news(company:str, start_date:str, end_date:str) -> str:\n",
    "    \"\"\"A tool that fetches finance news from the Finnhub API.\"\"\"\n",
    "    # Your existing API call logic here\n",
    "    finnhub_client = finnhub.Client(api_key=FINANCE_API_KEY)\n",
    "    \n",
    "    response = finnhub_client.company_news(company, _from=start_date, to=end_date)\n",
    "    summary = response[0]['summary']\n",
    "    return summary\n",
    "\n",
    "\n",
    "\n",
    "\n",
    "tools = [get_finance_news]\n",
    "\n",
    "llm_with_tools = llm.bind_tools(tools)"
   ]
  },
  {
   "cell_type": "code",
   "execution_count": 86,
   "id": "19ca91cd",
   "metadata": {},
   "outputs": [
    {
     "name": "stdout",
     "output_type": "stream",
     "text": [
      "[{'name': 'get_finance_news', 'args': {'company': 'AAPL', 'start_date': '2024-12-12', 'end_date': '2024-12-13'}, 'id': 'call_vCXlwYrEQ1oH025P2t80Lkuk', 'type': 'tool_call'}]\n"
     ]
    }
   ],
   "source": [
    "from langchain_core.messages import HumanMessage\n",
    "\n",
    "query = \"Use the provided tool in order to ouput the latest news, had in this question: What are the latest news of the company 'AAPL' between those exact values 2024-12-12 2024-12-13\"\n",
    "\n",
    "messages = [HumanMessage(query)]\n",
    "\n",
    "ai_msg = llm_with_tools.invoke(messages)\n",
    "\n",
    "print(ai_msg.tool_calls)\n",
    "\n",
    "messages.append(ai_msg)"
   ]
  },
  {
   "cell_type": "code",
   "execution_count": 87,
   "id": "722c7f09",
   "metadata": {},
   "outputs": [
    {
     "data": {
      "text/plain": [
       "[HumanMessage(content=\"Use the provided tool in order to ouput the latest news, had in this question: What are the latest news of the company 'AAPL' between those exact values 2024-12-12 2024-12-13\", additional_kwargs={}, response_metadata={}),\n",
       " AIMessage(content='', additional_kwargs={'tool_calls': [{'id': 'call_vCXlwYrEQ1oH025P2t80Lkuk', 'function': {'arguments': '{\"company\":\"AAPL\",\"start_date\":\"2024-12-12\",\"end_date\":\"2024-12-13\"}', 'name': 'get_finance_news'}, 'type': 'function'}], 'refusal': None}, response_metadata={'token_usage': {'completion_tokens': 37, 'prompt_tokens': 110, 'total_tokens': 147, 'completion_tokens_details': {'accepted_prediction_tokens': 0, 'audio_tokens': 0, 'reasoning_tokens': 0, 'rejected_prediction_tokens': 0}, 'prompt_tokens_details': {'audio_tokens': 0, 'cached_tokens': 0}}, 'model_name': 'gpt-4o-mini-2024-07-18', 'system_fingerprint': 'fp_6fc10e10eb', 'finish_reason': 'tool_calls', 'logprobs': None}, id='run-614df7d6-42f8-4f11-8828-5dc0c8c601e1-0', tool_calls=[{'name': 'get_finance_news', 'args': {'company': 'AAPL', 'start_date': '2024-12-12', 'end_date': '2024-12-13'}, 'id': 'call_vCXlwYrEQ1oH025P2t80Lkuk', 'type': 'tool_call'}], usage_metadata={'input_tokens': 110, 'output_tokens': 37, 'total_tokens': 147, 'input_token_details': {'audio': 0, 'cache_read': 0}, 'output_token_details': {'audio': 0, 'reasoning': 0}}),\n",
       " ToolMessage(content='The broad U.S. stock market posted solid gains that saw a reversal of trends from the first half of the year. Click here to read the full commentary. ', name='get_finance_news', tool_call_id='call_vCXlwYrEQ1oH025P2t80Lkuk')]"
      ]
     },
     "execution_count": 87,
     "metadata": {},
     "output_type": "execute_result"
    }
   ],
   "source": [
    "for tool_call in ai_msg.tool_calls:\n",
    "    selected_tool = {\"get_finance_news\":get_finance_news}[tool_call[\"name\"].lower()]\n",
    "    tool_msg = selected_tool.invoke(tool_call)\n",
    "    messages.append(tool_msg)\n",
    "\n",
    "messages"
   ]
  },
  {
   "cell_type": "code",
   "execution_count": 89,
   "id": "a5cc820f",
   "metadata": {},
   "outputs": [
    {
     "data": {
      "text/plain": [
       "'The latest news for Apple Inc. (AAPL) between December 12, 2024, and December 13, 2024, indicates that the broad U.S. stock market posted solid gains, reversing trends from the first half of the year.'"
      ]
     },
     "execution_count": 89,
     "metadata": {},
     "output_type": "execute_result"
    }
   ],
   "source": [
    "llm_with_tools.invoke(messages).content"
   ]
  }
 ],
 "metadata": {
  "kernelspec": {
   "display_name": "Python 3",
   "language": "python",
   "name": "python3"
  },
  "language_info": {
   "codemirror_mode": {
    "name": "ipython",
    "version": 3
   },
   "file_extension": ".py",
   "mimetype": "text/x-python",
   "name": "python",
   "nbconvert_exporter": "python",
   "pygments_lexer": "ipython3",
   "version": "3.10.12"
  }
 },
 "nbformat": 4,
 "nbformat_minor": 5
}
